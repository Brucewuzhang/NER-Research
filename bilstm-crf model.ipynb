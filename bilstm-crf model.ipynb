{
 "cells": [
  {
   "cell_type": "code",
   "execution_count": 1,
   "metadata": {},
   "outputs": [
    {
     "name": "stderr",
     "output_type": "stream",
     "text": [
      "/home/dtadmin/miniconda3/lib/python3.8/site-packages/tensorflow_addons/utils/ensure_tf_install.py:54: UserWarning: Tensorflow Addons supports using Python ops for all Tensorflow versions above or equal to 2.2.0 and strictly below 2.3.0 (nightly versions are not supported). \n",
      " The versions of TensorFlow you are currently using is 2.3.1 and is not supported. \n",
      "Some things might work, some things might not.\n",
      "If you were to encounter a bug, do not file an issue.\n",
      "If you want to make sure you're using a tested and supported configuration, either change the TensorFlow version or the TensorFlow Addons's version. \n",
      "You can find the compatibility matrix in TensorFlow Addon's readme:\n",
      "https://github.com/tensorflow/addons\n",
      "  warnings.warn(\n"
     ]
    }
   ],
   "source": [
    "from bilstm_crf.model import BiLstmCRF\n",
    "import tensorflow as tf\n",
    "import json\n",
    "import tensorflow_addons as tfa"
   ]
  },
  {
   "cell_type": "code",
   "execution_count": 2,
   "metadata": {},
   "outputs": [],
   "source": [
    "dropout_rate = 0.5\n",
    "embedding_size = 32\n",
    "hidden_dim = 32"
   ]
  },
  {
   "cell_type": "code",
   "execution_count": 3,
   "metadata": {},
   "outputs": [],
   "source": [
    "with open('/data/share/user/bruce.zhang/NER/conll2003/vocab.json', 'r', encoding='utf-8') as f:\n",
    "    vocab = json.load(f)\n",
    "    \n",
    "with open('/data/share/user/bruce.zhang/NER/conll2003/label.json', 'r', encoding='utf-8') as f:\n",
    "    labels = json.load(f)"
   ]
  },
  {
   "cell_type": "code",
   "execution_count": 4,
   "metadata": {},
   "outputs": [],
   "source": [
    "id2label = {v: k for k,v in labels.items()}"
   ]
  },
  {
   "cell_type": "code",
   "execution_count": 5,
   "metadata": {},
   "outputs": [],
   "source": [
    "vocab_size = len(vocab)"
   ]
  },
  {
   "cell_type": "code",
   "execution_count": 6,
   "metadata": {},
   "outputs": [],
   "source": [
    "model = BiLstmCRF(vocab_size, embedding_size, hidden_dim,len(labels), 0.5)"
   ]
  },
  {
   "cell_type": "code",
   "execution_count": 7,
   "metadata": {},
   "outputs": [
    {
     "data": {
      "text/plain": [
       "(<tf.Tensor: shape=(1, 3, 8), dtype=float32, numpy=\n",
       " array([[[-0.01030804,  0.00653901, -0.00562507,  0.00066606,\n",
       "          -0.00342177, -0.00071182,  0.00478643,  0.008395  ],\n",
       "         [-0.00492124,  0.00758045, -0.00582938,  0.00053183,\n",
       "          -0.00439965, -0.00619917,  0.01543278,  0.00068343],\n",
       "         [-0.00011463,  0.00485278,  0.00187784, -0.00239379,\n",
       "          -0.00595655, -0.00500973,  0.00796062,  0.00840901]]],\n",
       "       dtype=float32)>,\n",
       " <tf.Tensor: shape=(1,), dtype=int32, numpy=array([3], dtype=int32)>)"
      ]
     },
     "execution_count": 7,
     "metadata": {},
     "output_type": "execute_result"
    }
   ],
   "source": [
    "model([tf.constant([[1,2,3]]), tf.constant([[2,3,4]])])"
   ]
  },
  {
   "cell_type": "code",
   "execution_count": 8,
   "metadata": {},
   "outputs": [
    {
     "data": {
      "text/plain": [
       "<tensorflow.python.training.tracking.util.CheckpointLoadStatus at 0x7f00e00f5850>"
      ]
     },
     "execution_count": 8,
     "metadata": {},
     "output_type": "execute_result"
    }
   ],
   "source": [
    "model.load_weights('/data/share/user/bruce.zhang/NER/model/model.ckpt-7')"
   ]
  },
  {
   "cell_type": "code",
   "execution_count": 27,
   "metadata": {},
   "outputs": [
    {
     "name": "stdout",
     "output_type": "stream",
     "text": [
      "[779, 2854, 15, 5611, 1837, 1973, 393, 1199, 2575, 70, 1, 170, 230, 15, 3121, 142, 12223, 10]\n"
     ]
    }
   ],
   "source": [
    "# sent = 'SOCCER - Japan GET LUCKY WIN , China IN SURPRISE DEFEAT .'\n",
    "sent = 'despite winning the Asian Games title two years ago , Uzbekistan are in the finals as outsiders .'\n",
    "w_idx = [vocab.get(w, 1) for w in sent.lower().split(' ')]\n",
    "print(w_idx)"
   ]
  },
  {
   "cell_type": "code",
   "execution_count": 23,
   "metadata": {},
   "outputs": [],
   "source": [
    "logits, text_lens = model(tf.constant([w_idx]), training=False)"
   ]
  },
  {
   "cell_type": "code",
   "execution_count": 24,
   "metadata": {},
   "outputs": [],
   "source": [
    "viterbi_path, _  = tfa.text.viterbi_decode(logits[0], model.transition_params)"
   ]
  },
  {
   "cell_type": "code",
   "execution_count": 25,
   "metadata": {},
   "outputs": [
    {
     "data": {
      "text/plain": [
       "['O',\n",
       " 'O',\n",
       " 'O',\n",
       " 'I-MISC',\n",
       " 'I-MISC',\n",
       " 'O',\n",
       " 'O',\n",
       " 'O',\n",
       " 'O',\n",
       " 'O',\n",
       " 'O',\n",
       " 'O',\n",
       " 'O',\n",
       " 'O',\n",
       " 'O',\n",
       " 'O',\n",
       " 'O',\n",
       " 'O']"
      ]
     },
     "execution_count": 25,
     "metadata": {},
     "output_type": "execute_result"
    }
   ],
   "source": [
    "viterbi_path = [id2label[i] for i in viterbi_path]\n",
    "viterbi_path"
   ]
  },
  {
   "cell_type": "code",
   "execution_count": null,
   "metadata": {},
   "outputs": [],
   "source": []
  },
  {
   "cell_type": "code",
   "execution_count": null,
   "metadata": {},
   "outputs": [],
   "source": []
  }
 ],
 "metadata": {
  "kernelspec": {
   "display_name": "Python 3",
   "language": "python",
   "name": "python3"
  },
  "language_info": {
   "codemirror_mode": {
    "name": "ipython",
    "version": 3
   },
   "file_extension": ".py",
   "mimetype": "text/x-python",
   "name": "python",
   "nbconvert_exporter": "python",
   "pygments_lexer": "ipython3",
   "version": "3.8.3"
  }
 },
 "nbformat": 4,
 "nbformat_minor": 4
}
